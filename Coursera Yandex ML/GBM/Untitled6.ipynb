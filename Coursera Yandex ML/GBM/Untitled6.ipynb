{
 "cells": [
  {
   "cell_type": "code",
   "execution_count": 8,
   "metadata": {},
   "outputs": [],
   "source": [
    "import pandas as pd\n",
    "import numpy as np\n",
    "from sklearn.metrics import log_loss\n",
    "from sklearn.cross_validation import train_test_split\n",
    "from sklearn.ensemble import GradientBoostingClassifier\n",
    "from sklearn.ensemble import RandomForestClassifier\n",
    "import matplotlib.pyplot as plt\n",
    "%matplotlib inline"
   ]
  },
  {
   "cell_type": "code",
   "execution_count": 9,
   "metadata": {},
   "outputs": [],
   "source": [
    "df = pd.read_csv('D:/coursera/11/gbm-data.csv')"
   ]
  },
  {
   "cell_type": "code",
   "execution_count": 10,
   "metadata": {},
   "outputs": [],
   "source": [
    "X = df.iloc[:,1:]\n",
    "y = df.iloc[:,0:1]"
   ]
  },
  {
   "cell_type": "code",
   "execution_count": 11,
   "metadata": {},
   "outputs": [],
   "source": [
    "X_train, X_test, y_train, y_test = train_test_split(X, y, \n",
    "                                      test_size=0.8, \n",
    "                                      random_state=241)"
   ]
  },
  {
   "cell_type": "code",
   "execution_count": 12,
   "metadata": {},
   "outputs": [
    {
     "name": "stderr",
     "output_type": "stream",
     "text": [
      "C:\\Users\\OhWhee\\Anaconda3\\lib\\site-packages\\sklearn\\utils\\validation.py:578: DataConversionWarning: A column-vector y was passed when a 1d array was expected. Please change the shape of y to (n_samples, ), for example using ravel().\n",
      "  y = column_or_1d(y, warn=True)\n"
     ]
    },
    {
     "name": "stdout",
     "output_type": "stream",
     "text": [
      "      Iter       Train Loss   Remaining Time \n",
      "         1           1.0190            7.78s\n",
      "         2           0.9192            7.75s\n",
      "         3           0.8272            7.72s\n",
      "         4           0.7834            6.73s\n",
      "         5           0.7109            6.13s\n",
      "         6           0.6368            6.35s\n",
      "         7           0.5797            7.05s\n",
      "         8           0.5610            7.09s\n",
      "         9           0.5185            7.11s\n",
      "        10           0.4984            6.75s\n",
      "        20           0.1999            5.93s\n",
      "        30           0.1313            5.04s\n",
      "        40           0.0790            4.84s\n",
      "        50           0.0511            4.44s\n",
      "        60           0.0352            4.26s\n",
      "        70           0.0245            3.94s\n",
      "        80           0.0162            3.72s\n",
      "        90           0.0114            3.44s\n",
      "       100           0.0077            3.23s\n",
      "       200           0.0004            0.93s\n"
     ]
    },
    {
     "data": {
      "text/plain": [
       "GradientBoostingClassifier(criterion='friedman_mse', init=None,\n",
       "              learning_rate=1.0, loss='deviance', max_depth=3,\n",
       "              max_features=None, max_leaf_nodes=None,\n",
       "              min_impurity_decrease=0.0, min_impurity_split=None,\n",
       "              min_samples_leaf=1, min_samples_split=2,\n",
       "              min_weight_fraction_leaf=0.0, n_estimators=250,\n",
       "              presort='auto', random_state=241, subsample=1.0,\n",
       "              verbose=True, warm_start=False)"
      ]
     },
     "execution_count": 12,
     "metadata": {},
     "output_type": "execute_result"
    }
   ],
   "source": [
    "gbm_1 = GradientBoostingClassifier(n_estimators=250, random_state=241, learning_rate=1.0, verbose=True)\n",
    "gbm_1.fit(X_train, y_train)"
   ]
  },
  {
   "cell_type": "code",
   "execution_count": 13,
   "metadata": {},
   "outputs": [
    {
     "name": "stderr",
     "output_type": "stream",
     "text": [
      "C:\\Users\\OhWhee\\Anaconda3\\lib\\site-packages\\sklearn\\utils\\validation.py:578: DataConversionWarning: A column-vector y was passed when a 1d array was expected. Please change the shape of y to (n_samples, ), for example using ravel().\n",
      "  y = column_or_1d(y, warn=True)\n"
     ]
    },
    {
     "name": "stdout",
     "output_type": "stream",
     "text": [
      "      Iter       Train Loss   Remaining Time \n",
      "         1           1.1255           11.67s\n",
      "         2           1.0035            9.69s\n",
      "         3           0.9386            9.01s\n",
      "         4           0.8844            7.69s\n",
      "         5           0.8381            7.66s\n",
      "         6           0.7995            6.99s\n",
      "         7           0.7559            7.05s\n",
      "         8           0.7205            7.56s\n",
      "         9           0.6958            7.53s\n",
      "        10           0.6725            7.13s\n",
      "        20           0.4672            5.93s\n",
      "        30           0.3179            5.39s\n",
      "        40           0.2274            5.17s\n",
      "        50           0.1774            4.75s\n",
      "        60           0.1394            4.55s\n",
      "        70           0.1050            4.30s\n",
      "        80           0.0805            4.02s\n",
      "        90           0.0650            3.78s\n",
      "       100           0.0511            3.56s\n",
      "       200           0.0058            1.09s\n"
     ]
    },
    {
     "data": {
      "text/plain": [
       "GradientBoostingClassifier(criterion='friedman_mse', init=None,\n",
       "              learning_rate=0.5, loss='deviance', max_depth=3,\n",
       "              max_features=None, max_leaf_nodes=None,\n",
       "              min_impurity_decrease=0.0, min_impurity_split=None,\n",
       "              min_samples_leaf=1, min_samples_split=2,\n",
       "              min_weight_fraction_leaf=0.0, n_estimators=250,\n",
       "              presort='auto', random_state=241, subsample=1.0,\n",
       "              verbose=True, warm_start=False)"
      ]
     },
     "execution_count": 13,
     "metadata": {},
     "output_type": "execute_result"
    }
   ],
   "source": [
    "gbm_05 = GradientBoostingClassifier(n_estimators=250, random_state=241, learning_rate=0.5, verbose=True)\n",
    "gbm_05.fit(X_train, y_train)"
   ]
  },
  {
   "cell_type": "code",
   "execution_count": 14,
   "metadata": {},
   "outputs": [
    {
     "name": "stderr",
     "output_type": "stream",
     "text": [
      "C:\\Users\\OhWhee\\Anaconda3\\lib\\site-packages\\sklearn\\utils\\validation.py:578: DataConversionWarning: A column-vector y was passed when a 1d array was expected. Please change the shape of y to (n_samples, ), for example using ravel().\n",
      "  y = column_or_1d(y, warn=True)\n"
     ]
    },
    {
     "name": "stdout",
     "output_type": "stream",
     "text": [
      "      Iter       Train Loss   Remaining Time \n",
      "         1           1.2095           11.68s\n",
      "         2           1.1006            9.69s\n",
      "         3           1.0240            9.01s\n",
      "         4           0.9729            8.65s\n",
      "         5           0.9387            7.66s\n",
      "         6           0.8948            8.26s\n",
      "         7           0.8621            8.14s\n",
      "         8           0.8360            8.04s\n",
      "         9           0.8171            7.53s\n",
      "        10           0.7883            7.50s\n",
      "        20           0.6164            6.11s\n",
      "        30           0.4933            5.27s\n",
      "        40           0.4248            4.84s\n",
      "        50           0.3345            4.69s\n",
      "        60           0.2760            4.35s\n",
      "        70           0.2263            4.18s\n",
      "        80           0.1971            3.82s\n",
      "        90           0.1693            3.58s\n",
      "       100           0.1388            3.40s\n",
      "       200           0.0294            1.08s\n"
     ]
    },
    {
     "data": {
      "text/plain": [
       "GradientBoostingClassifier(criterion='friedman_mse', init=None,\n",
       "              learning_rate=0.3, loss='deviance', max_depth=3,\n",
       "              max_features=None, max_leaf_nodes=None,\n",
       "              min_impurity_decrease=0.0, min_impurity_split=None,\n",
       "              min_samples_leaf=1, min_samples_split=2,\n",
       "              min_weight_fraction_leaf=0.0, n_estimators=250,\n",
       "              presort='auto', random_state=241, subsample=1.0,\n",
       "              verbose=True, warm_start=False)"
      ]
     },
     "execution_count": 14,
     "metadata": {},
     "output_type": "execute_result"
    }
   ],
   "source": [
    "gbm_03 = GradientBoostingClassifier(n_estimators=250, random_state=241, learning_rate=0.3, verbose=True)\n",
    "gbm_03.fit(X_train, y_train)"
   ]
  },
  {
   "cell_type": "code",
   "execution_count": 15,
   "metadata": {},
   "outputs": [
    {
     "name": "stderr",
     "output_type": "stream",
     "text": [
      "C:\\Users\\OhWhee\\Anaconda3\\lib\\site-packages\\sklearn\\utils\\validation.py:578: DataConversionWarning: A column-vector y was passed when a 1d array was expected. Please change the shape of y to (n_samples, ), for example using ravel().\n",
      "  y = column_or_1d(y, warn=True)\n"
     ]
    },
    {
     "name": "stdout",
     "output_type": "stream",
     "text": [
      "      Iter       Train Loss   Remaining Time \n",
      "         1           1.2613           11.67s\n",
      "         2           1.1715            9.69s\n",
      "         3           1.1009            9.01s\n",
      "         4           1.0529            8.65s\n",
      "         5           1.0130            8.42s\n",
      "         6           0.9740            8.90s\n",
      "         7           0.9475            8.68s\n",
      "         8           0.9197            8.51s\n",
      "         9           0.8979            8.37s\n",
      "        10           0.8730            8.25s\n",
      "        20           0.7207            6.47s\n",
      "        30           0.6055            5.62s\n",
      "        40           0.5244            5.09s\n",
      "        50           0.4501            4.88s\n",
      "        60           0.3908            4.50s\n",
      "        70           0.3372            4.30s\n",
      "        80           0.3009            4.02s\n",
      "        90           0.2603            3.81s\n",
      "       100           0.2327            3.52s\n",
      "       200           0.0835            1.09s\n"
     ]
    },
    {
     "data": {
      "text/plain": [
       "GradientBoostingClassifier(criterion='friedman_mse', init=None,\n",
       "              learning_rate=0.2, loss='deviance', max_depth=3,\n",
       "              max_features=None, max_leaf_nodes=None,\n",
       "              min_impurity_decrease=0.0, min_impurity_split=None,\n",
       "              min_samples_leaf=1, min_samples_split=2,\n",
       "              min_weight_fraction_leaf=0.0, n_estimators=250,\n",
       "              presort='auto', random_state=241, subsample=1.0,\n",
       "              verbose=True, warm_start=False)"
      ]
     },
     "execution_count": 15,
     "metadata": {},
     "output_type": "execute_result"
    }
   ],
   "source": [
    "gbm_02 = GradientBoostingClassifier(n_estimators=250, random_state=241, learning_rate=0.2, verbose=True)\n",
    "gbm_02.fit(X_train, y_train)"
   ]
  },
  {
   "cell_type": "code",
   "execution_count": 16,
   "metadata": {},
   "outputs": [
    {
     "name": "stderr",
     "output_type": "stream",
     "text": [
      "C:\\Users\\OhWhee\\Anaconda3\\lib\\site-packages\\sklearn\\utils\\validation.py:578: DataConversionWarning: A column-vector y was passed when a 1d array was expected. Please change the shape of y to (n_samples, ), for example using ravel().\n",
      "  y = column_or_1d(y, warn=True)\n"
     ]
    },
    {
     "name": "stdout",
     "output_type": "stream",
     "text": [
      "      Iter       Train Loss   Remaining Time \n",
      "         1           1.3199            7.78s\n",
      "         2           1.2645            7.75s\n",
      "         3           1.2170            7.72s\n",
      "         4           1.1775            7.69s\n",
      "         5           1.1404            7.66s\n",
      "         6           1.1106            8.26s\n",
      "         7           1.0844            8.68s\n",
      "         8           1.0617            8.51s\n",
      "         9           1.0411            8.37s\n",
      "        10           1.0223            8.25s\n",
      "        20           0.8864            7.01s\n",
      "        30           0.7844            6.19s\n",
      "        40           0.7176            5.58s\n",
      "        50           0.6590            5.19s\n",
      "        60           0.6120            5.00s\n",
      "        70           0.5599            4.78s\n",
      "        80           0.5242            4.38s\n",
      "        90           0.4829            4.28s\n",
      "       100           0.4473            3.98s\n",
      "       200           0.2379            1.26s\n"
     ]
    },
    {
     "data": {
      "text/plain": [
       "GradientBoostingClassifier(criterion='friedman_mse', init=None,\n",
       "              learning_rate=0.1, loss='deviance', max_depth=3,\n",
       "              max_features=None, max_leaf_nodes=None,\n",
       "              min_impurity_decrease=0.0, min_impurity_split=None,\n",
       "              min_samples_leaf=1, min_samples_split=2,\n",
       "              min_weight_fraction_leaf=0.0, n_estimators=250,\n",
       "              presort='auto', random_state=241, subsample=1.0,\n",
       "              verbose=True, warm_start=False)"
      ]
     },
     "execution_count": 16,
     "metadata": {},
     "output_type": "execute_result"
    }
   ],
   "source": [
    "gbm_01 = GradientBoostingClassifier(n_estimators=250, random_state=241, learning_rate=0.1, verbose=True)\n",
    "gbm_01.fit(X_train, y_train)"
   ]
  },
  {
   "cell_type": "code",
   "execution_count": 17,
   "metadata": {},
   "outputs": [],
   "source": [
    "def sigmoid(y_pred):\n",
    "   return 1 / (1 + np.e ** (-y_pred))"
   ]
  },
  {
   "cell_type": "code",
   "execution_count": 18,
   "metadata": {},
   "outputs": [],
   "source": [
    "def log_loss_results(model, X, y):\n",
    "    results = []\n",
    "    for pred in model.staged_decision_function(X):\n",
    "        results.append(log_loss(y, [sigmoid(y_pred) for y_pred in pred]))\n",
    "    return results"
   ]
  },
  {
   "cell_type": "code",
   "execution_count": 19,
   "metadata": {},
   "outputs": [],
   "source": [
    "def plot(learning_rate, train_loss, test_loss):\n",
    "    plt.figure()\n",
    "    plt.plot(test_loss, 'r', linewidth=2)\n",
    "    plt.plot(train_loss, 'g', linewidth=2)\n",
    "    plt.legend(['test', 'train'])\n",
    "    plt.savefig('D:/coursera/11/rate_' + str(learning_rate) + '.png')\n",
    "    min_loss_value = min(test_loss)\n",
    "    min_loss_index = test_loss.index(min_loss_value)\n",
    "    return min_loss_value, min_loss_index"
   ]
  },
  {
   "cell_type": "code",
   "execution_count": 20,
   "metadata": {},
   "outputs": [],
   "source": [
    "def model_test(learning_rate):\n",
    "    model = GradientBoostingClassifier(learning_rate=learning_rate, n_estimators=250, verbose=True, random_state=241)\n",
    "    model.fit(X_train, y_train)\n",
    "    train_loss = log_loss_results(model, X_train, y_train)\n",
    "    test_loss = log_loss_results(model, X_test, y_test)\n",
    "    return plot(learning_rate, test_loss, train_loss)"
   ]
  },
  {
   "cell_type": "code",
   "execution_count": 21,
   "metadata": {
    "scrolled": false
   },
   "outputs": [
    {
     "name": "stderr",
     "output_type": "stream",
     "text": [
      "C:\\Users\\OhWhee\\Anaconda3\\lib\\site-packages\\sklearn\\utils\\validation.py:578: DataConversionWarning: A column-vector y was passed when a 1d array was expected. Please change the shape of y to (n_samples, ), for example using ravel().\n",
      "  y = column_or_1d(y, warn=True)\n"
     ]
    },
    {
     "name": "stdout",
     "output_type": "stream",
     "text": [
      "      Iter       Train Loss   Remaining Time \n",
      "         1           1.0190            7.78s\n",
      "         2           0.9192            7.75s\n",
      "         3           0.8272            7.72s\n",
      "         4           0.7834            6.73s\n",
      "         5           0.7109            6.13s\n",
      "         6           0.6368            6.35s\n",
      "         7           0.5797            7.05s\n",
      "         8           0.5610            6.62s\n",
      "         9           0.5185            6.70s\n",
      "        10           0.4984            6.38s\n",
      "        20           0.1999            6.47s\n",
      "        30           0.1313            5.96s\n",
      "        40           0.0790            5.33s\n",
      "        50           0.0511            5.31s\n",
      "        60           0.0352            5.10s\n",
      "        70           0.0245            4.62s\n",
      "        80           0.0162            4.25s\n",
      "        90           0.0114            3.89s\n",
      "       100           0.0077            3.61s\n",
      "       200           0.0004            1.00s\n",
      "      Iter       Train Loss   Remaining Time \n",
      "         1           1.1255            7.78s\n",
      "         2           1.0035            7.75s\n",
      "         3           0.9386            7.72s\n",
      "         4           0.8844            6.73s\n",
      "         5           0.8381            6.89s\n",
      "         6           0.7995            6.36s\n",
      "         7           0.7559            5.97s\n",
      "         8           0.7205            6.15s\n",
      "         9           0.6958            6.28s\n",
      "        10           0.6725            6.38s\n",
      "        20           0.4672            5.57s\n",
      "        30           0.3179            5.27s\n",
      "        40           0.2274            5.09s\n",
      "        50           0.1774            4.75s\n",
      "        60           0.1394            4.50s\n",
      "        70           0.1050            4.30s\n",
      "        80           0.0805            4.02s\n",
      "        90           0.0650            3.81s\n",
      "       100           0.0511            3.66s\n",
      "       200           0.0058            1.13s\n",
      "      Iter       Train Loss   Remaining Time \n",
      "         1           1.2095            7.79s\n",
      "         2           1.1006            7.75s\n",
      "         3           1.0240            7.72s\n",
      "         4           0.9729            7.69s\n",
      "         5           0.9387            7.66s\n",
      "         6           0.8948            7.63s\n",
      "         7           0.8621            7.05s\n",
      "         8           0.8360            7.09s\n",
      "         9           0.8171            6.70s\n",
      "        10           0.7883            6.75s\n",
      "        20           0.6164            5.75s\n",
      "        30           0.4933            5.16s\n",
      "        40           0.4248            4.68s\n",
      "        50           0.3345            4.63s\n",
      "        60           0.2760            4.65s\n",
      "        70           0.2263            4.38s\n",
      "        80           0.1971            4.02s\n",
      "        90           0.1693            3.75s\n",
      "       100           0.1388            3.56s\n",
      "       200           0.0294            1.15s\n",
      "      Iter       Train Loss   Remaining Time \n",
      "         1           1.2613            7.78s\n",
      "         2           1.1715            7.75s\n",
      "         3           1.1009            7.72s\n",
      "         4           1.0529            7.69s\n",
      "         5           1.0130            7.66s\n",
      "         6           0.9740            7.63s\n",
      "         7           0.9475            7.59s\n",
      "         8           0.9197            7.56s\n",
      "         9           0.8979            7.53s\n",
      "        10           0.8730            7.50s\n",
      "        20           0.7207            6.11s\n",
      "        30           0.6055            5.39s\n",
      "        40           0.5244            5.09s\n",
      "        50           0.4501            5.06s\n",
      "        60           0.3908            4.95s\n",
      "        70           0.3372            4.54s\n",
      "        80           0.3009            4.28s\n",
      "        90           0.2603            4.17s\n",
      "       100           0.2327            3.91s\n",
      "       200           0.0835            1.20s\n",
      "      Iter       Train Loss   Remaining Time \n",
      "         1           1.3199            7.78s\n",
      "         2           1.2645            7.75s\n",
      "         3           1.2170            7.72s\n",
      "         4           1.1775            7.69s\n",
      "         5           1.1404            7.66s\n",
      "         6           1.1106            7.63s\n",
      "         7           1.0844            8.14s\n",
      "         8           1.0617            8.04s\n",
      "         9           1.0411            7.95s\n",
      "        10           1.0223            7.88s\n",
      "        20           0.8864            7.01s\n",
      "        30           0.7844            6.30s\n",
      "        40           0.7176            6.32s\n",
      "        50           0.6590            5.63s\n",
      "        60           0.6120            5.20s\n",
      "        70           0.5599            4.86s\n",
      "        80           0.5242            4.45s\n",
      "        90           0.4829            4.17s\n",
      "       100           0.4473            4.03s\n",
      "       200           0.2379            1.22s\n"
     ]
    },
    {
     "data": {
      "image/png": "[encoded data removed]",
      "text/plain": [
       "<matplotlib.figure.Figure at 0x1be67eee748>"
      ]
     },
     "metadata": {},
     "output_type": "display_data"
    },
    {
     "data": {
      "image/png": "[encoded data removed]",
      "text/plain": [
       "<matplotlib.figure.Figure at 0x1be67ecada0>"
      ]
     },
     "metadata": {},
     "output_type": "display_data"
    },
    {
     "data": {
      "image/png": "[encoded data removed]",
      "text/plain": [
       "<matplotlib.figure.Figure at 0x1be6796c2b0>"
      ]
     },
     "metadata": {},
     "output_type": "display_data"
    },
    {
     "data": {
      "image/png": "[encoded data removed]",
      "text/plain": [
       "<matplotlib.figure.Figure at 0x1be67b01240>"
      ]
     },
     "metadata": {},
     "output_type": "display_data"
    },
    {
     "data": {
      "image/png": "[encoded data removed]",
      "text/plain": [
       "<matplotlib.figure.Figure at 0x1be67a5eba8>"
      ]
     },
     "metadata": {},
     "output_type": "display_data"
    }
   ],
   "source": [
    "mins = {}\n",
    "for learning_rate in [1, 0.5, 0.3, 0.2, 0.1]:\n",
    "    mins[learning_rate] = model_test(learning_rate)"
   ]
  },
  {
   "cell_type": "code",
   "execution_count": 22,
   "metadata": {},
   "outputs": [
    {
     "data": {
      "text/plain": [
       "{0.1: (0.0893696241627409, 249),\n",
       " 0.2: (0.024906124380084924, 249),\n",
       " 0.3: (0.006887291001447366, 249),\n",
       " 0.5: (0.0010223680763683197, 249),\n",
       " 1: (0.00020857611394801528, 180)}"
      ]
     },
     "execution_count": 22,
     "metadata": {},
     "output_type": "execute_result"
    }
   ],
   "source": [
    "mins"
   ]
  },
  {
   "cell_type": "code",
   "execution_count": 25,
   "metadata": {},
   "outputs": [],
   "source": [
    "min_loss_value, min_loss_index = mins[0.2]"
   ]
  },
  {
   "cell_type": "code",
   "execution_count": 26,
   "metadata": {},
   "outputs": [
    {
     "name": "stderr",
     "output_type": "stream",
     "text": [
      "C:\\Users\\OhWhee\\Anaconda3\\lib\\site-packages\\ipykernel_launcher.py:2: DataConversionWarning: A column-vector y was passed when a 1d array was expected. Please change the shape of y to (n_samples,), for example using ravel().\n",
      "  \n"
     ]
    },
    {
     "name": "stdout",
     "output_type": "stream",
     "text": [
      "0.5244401400558965\n"
     ]
    }
   ],
   "source": [
    "model = RandomForestClassifier(n_estimators=min_loss_index, random_state=241)\n",
    "model.fit(X_train, y_train)\n",
    "y_pred = model.predict_proba(X_test)[:, 1]\n",
    "test_loss = log_loss(y_test, y_pred)\n",
    "print(test_loss)"
   ]
  },
  {
   "cell_type": "code",
   "execution_count": null,
   "metadata": {},
   "outputs": [],
   "source": []
  }
 ],
 "metadata": {
  "kernelspec": {
   "display_name": "Python 3",
   "language": "python",
   "name": "python3"
  },
  "language_info": {
   "codemirror_mode": {
    "name": "ipython",
    "version": 3
   },
   "file_extension": ".py",
   "mimetype": "text/x-python",
   "name": "python",
   "nbconvert_exporter": "python",
   "pygments_lexer": "ipython3",
   "version": "3.6.4"
  }
 },
 "nbformat": 4,
 "nbformat_minor": 2
}
